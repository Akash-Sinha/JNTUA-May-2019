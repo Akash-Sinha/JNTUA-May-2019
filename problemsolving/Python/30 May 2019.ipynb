{
 "cells": [
  {
   "cell_type": "markdown",
   "metadata": {},
   "source": [
    "# Introduction to Markdown and Python\n",
    "\n",
    "### Date : 30 May 2019\n",
    "\n",
    "### Session Objectives \n",
    "* To introduce **Jupyter Notebooks**\n",
    "* To teach *Markdown* syntax\n",
    "* To introduce **Python** basics\n",
    "  * Basic Syntax(Variables, Assignment, Data Types)\n",
    "  * Control Structures\n",
    "    1. Conditional\n",
    "    2. Repetitive\n",
    "\n",
    "<img src='python-logo.png'/>\n",
    "[Link to Main Website](https://sites.google.com/view/jntua-python-may-2019/worklog/day-04)\n",
    "<br><br>\n",
    "[Markdown Resources](https://github.com/adam-p/markdown-here/wiki/Markdown-Cheatsheet)\n"
   ]
  },
  {
   "cell_type": "code",
   "execution_count": null,
   "metadata": {},
   "outputs": [],
   "source": []
  },
  {
   "cell_type": "markdown",
   "metadata": {},
   "source": [
    "### Python Basics"
   ]
  },
  {
   "cell_type": "code",
   "execution_count": 9,
   "metadata": {},
   "outputs": [
    {
     "name": "stdout",
     "output_type": "stream",
     "text": [
      "Hello World !\n",
      "Hello World  "
     ]
    }
   ],
   "source": [
    "print(\"Hello World !\") # Single Parameter\n",
    "print(\"Hello\", \"World \", end=\" \") # Multiple parameters with end character\n",
    "print(\"Hello\" + \"World \") #Concatenation using +\n"
   ]
  },
  {
   "cell_type": "code",
   "execution_count": 36,
   "metadata": {},
   "outputs": [
    {
     "name": "stdout",
     "output_type": "stream",
     "text": [
      "Enter a value12345\n",
      "12345\n"
     ]
    }
   ],
   "source": [
    "#This is a comment\n",
    "\n",
    "n = input(\"Enter a value\") # Capture the input and store it in a variable\n",
    "print(n)"
   ]
  },
  {
   "cell_type": "code",
   "execution_count": 122,
   "metadata": {},
   "outputs": [
    {
     "data": {
      "text/plain": [
       "6172"
      ]
     },
     "execution_count": 122,
     "metadata": {},
     "output_type": "execute_result"
    }
   ],
   "source": [
    "n = int(n) # Type conversion to interger and reassign\n",
    "n // 2 # Expression evaluation using standard operator precedence"
   ]
  },
  {
   "cell_type": "code",
   "execution_count": 39,
   "metadata": {},
   "outputs": [
    {
     "name": "stdout",
     "output_type": "stream",
     "text": [
      "12345 12345 \n",
      " 12345\n",
      "123 <class 'int'> 234 345\n"
     ]
    }
   ],
   "source": [
    "a = b = c = n #Assigning a single value to multiple variables\n",
    "a\n",
    "print(a, b, '\\n',c)\n",
    "c\n",
    "d, e, f = 123, 234, 345 # Assigning multiple values to multiple variables\n",
    "print(d, type(d), e, f)"
   ]
  },
  {
   "cell_type": "code",
   "execution_count": 41,
   "metadata": {},
   "outputs": [
    {
     "name": "stdout",
     "output_type": "stream",
     "text": [
      "<class 'int'>\n",
      "<class 'str'>\n",
      "<class 'float'>\n"
     ]
    }
   ],
   "source": [
    "#Type Conversion\n",
    "print(type(c))\n",
    "c = str(c)\n",
    "print(type(c))\n",
    "c = float(c)\n",
    "print(type(c))"
   ]
  },
  {
   "cell_type": "markdown",
   "metadata": {},
   "source": [
    "#### Higher Order Computation"
   ]
  },
  {
   "cell_type": "code",
   "execution_count": 1,
   "metadata": {},
   "outputs": [
    {
     "name": "stdout",
     "output_type": "stream",
     "text": [
      "<class 'int'>\n"
     ]
    },
    {
     "data": {
      "text/plain": [
       "'288489162964072240002563015621325725278241478288752154560968460578855856512845900815115704300451035823412757730553895064843879108527498368220667733106570325482694228174749466316988531593245867798092845917576783498639607947851079733800827165068799948214023604266301416541306649516197843'"
      ]
     },
     "execution_count": 1,
     "metadata": {},
     "output_type": "execute_result"
    }
   ],
   "source": [
    "num = 987 ** 95\n",
    "print(type(num))\n",
    "str(num)"
   ]
  },
  {
   "cell_type": "markdown",
   "metadata": {},
   "source": [
    "##### String Slicing"
   ]
  },
  {
   "cell_type": "code",
   "execution_count": 50,
   "metadata": {
    "scrolled": true
   },
   "outputs": [
    {
     "data": {
      "text/plain": [
       "'P'"
      ]
     },
     "execution_count": 50,
     "metadata": {},
     "output_type": "execute_result"
    }
   ],
   "source": [
    "s1 = 'Python Programming'\n",
    "s1[0] # Accessing the first character"
   ]
  },
  {
   "cell_type": "code",
   "execution_count": 51,
   "metadata": {},
   "outputs": [
    {
     "data": {
      "text/plain": [
       "'g'"
      ]
     },
     "execution_count": 51,
     "metadata": {},
     "output_type": "execute_result"
    }
   ],
   "source": [
    "s1[-1] # Accessing the last character"
   ]
  },
  {
   "cell_type": "code",
   "execution_count": 56,
   "metadata": {},
   "outputs": [
    {
     "data": {
      "text/plain": [
       "'Python'"
      ]
     },
     "execution_count": 56,
     "metadata": {},
     "output_type": "execute_result"
    }
   ],
   "source": [
    "s1[0:6] # Accessing the first six characters\n",
    "s1[:6]"
   ]
  },
  {
   "cell_type": "code",
   "execution_count": 55,
   "metadata": {},
   "outputs": [
    {
     "data": {
      "text/plain": [
       "'Programming'"
      ]
     },
     "execution_count": 55,
     "metadata": {},
     "output_type": "execute_result"
    }
   ],
   "source": [
    "s1[7:] #Accessing all characters from 7th index to last\n",
    "s1[7:len(s1)]"
   ]
  },
  {
   "cell_type": "code",
   "execution_count": 86,
   "metadata": {},
   "outputs": [
    {
     "data": {
      "text/plain": [
       "'gnimmargorP nohtyP'"
      ]
     },
     "execution_count": 86,
     "metadata": {},
     "output_type": "execute_result"
    }
   ],
   "source": [
    "s1[::-1]  # Reverse of a string"
   ]
  },
  {
   "cell_type": "code",
   "execution_count": 67,
   "metadata": {},
   "outputs": [
    {
     "data": {
      "text/plain": [
       "'gnimmargorP'"
      ]
     },
     "execution_count": 67,
     "metadata": {},
     "output_type": "execute_result"
    }
   ],
   "source": [
    "s1[-1:6:-1] # Reverse of a substring"
   ]
  },
  {
   "cell_type": "code",
   "execution_count": 68,
   "metadata": {},
   "outputs": [
    {
     "data": {
      "text/plain": [
       "'nohtyP'"
      ]
     },
     "execution_count": 68,
     "metadata": {},
     "output_type": "execute_result"
    }
   ],
   "source": [
    "s1[5::-1] # Reverse of a substring"
   ]
  },
  {
   "cell_type": "code",
   "execution_count": 77,
   "metadata": {},
   "outputs": [
    {
     "data": {
      "text/plain": [
       "'987654'"
      ]
     },
     "execution_count": 77,
     "metadata": {},
     "output_type": "execute_result"
    }
   ],
   "source": [
    "s2 = '123456789'\n",
    "s2[-1:2:-1] # Reverse of the last len(s2)-3 characters"
   ]
  },
  {
   "cell_type": "code",
   "execution_count": 75,
   "metadata": {},
   "outputs": [
    {
     "data": {
      "text/plain": [
       "'654'"
      ]
     },
     "execution_count": 75,
     "metadata": {},
     "output_type": "execute_result"
    }
   ],
   "source": [
    "s2[5:2:-1] # Reverse of characters from index 5 to index 3"
   ]
  },
  {
   "cell_type": "code",
   "execution_count": 81,
   "metadata": {},
   "outputs": [
    {
     "data": {
      "text/plain": [
       "'13579'"
      ]
     },
     "execution_count": 81,
     "metadata": {},
     "output_type": "execute_result"
    }
   ],
   "source": [
    "s2[0::2] # Accessing alternate characters"
   ]
  },
  {
   "cell_type": "code",
   "execution_count": 82,
   "metadata": {},
   "outputs": [
    {
     "data": {
      "text/plain": [
       "'97531'"
      ]
     },
     "execution_count": 82,
     "metadata": {},
     "output_type": "execute_result"
    }
   ],
   "source": [
    "s2[-1::-2] # Alternate characters in reverse order"
   ]
  },
  {
   "cell_type": "markdown",
   "metadata": {},
   "source": [
    "#### Functions in Python"
   ]
  },
  {
   "cell_type": "code",
   "execution_count": 89,
   "metadata": {},
   "outputs": [
    {
     "name": "stdout",
     "output_type": "stream",
     "text": [
      "987654321\n"
     ]
    },
    {
     "data": {
      "text/plain": [
       "'gnimmargorP nohtyP'"
      ]
     },
     "execution_count": 89,
     "metadata": {},
     "output_type": "execute_result"
    }
   ],
   "source": [
    "#Function to reverse a string\n",
    "def reverseString(s):\n",
    "    return s[::-1]\n",
    "\n",
    "print(reverseString(s2))\n",
    "reverseString(s1)"
   ]
  },
  {
   "cell_type": "code",
   "execution_count": 103,
   "metadata": {},
   "outputs": [
    {
     "data": {
      "text/plain": [
       "'cba'"
      ]
     },
     "execution_count": 103,
     "metadata": {},
     "output_type": "execute_result"
    }
   ],
   "source": [
    "# Function to reverse a substring\n",
    "def reverseSubstring(s, i, j):\n",
    "    sub = s[i:j+1]\n",
    "    return sub[::-1]\n",
    "\n",
    "reverseSubstring('abcde', 0, 2)"
   ]
  },
  {
   "cell_type": "markdown",
   "metadata": {},
   "source": [
    "#### Conditional Control Structures"
   ]
  },
  {
   "cell_type": "code",
   "execution_count": 106,
   "metadata": {},
   "outputs": [
    {
     "data": {
      "text/plain": [
       "False"
      ]
     },
     "execution_count": 106,
     "metadata": {},
     "output_type": "execute_result"
    }
   ],
   "source": [
    "# Function to test divisibility by 9 and 11 and not 10\n",
    "def divisibilityTest(n):\n",
    "    if n % 9 == 0 and n % 11 == 0 and n % 10 != 0:\n",
    "        return True\n",
    "    else:\n",
    "        return False\n",
    "\n",
    "divisibilityTest(990)\n"
   ]
  },
  {
   "cell_type": "code",
   "execution_count": 107,
   "metadata": {},
   "outputs": [
    {
     "data": {
      "text/plain": [
       "64"
      ]
     },
     "execution_count": 107,
     "metadata": {},
     "output_type": "execute_result"
    }
   ],
   "source": [
    "# Recursive Function for a power n\n",
    "\n",
    "def powerN(a, n):\n",
    "    if n == 0:\n",
    "        return 1\n",
    "    return a * powerN(a, n-1)\n",
    "\n",
    "powerN(2, 6)"
   ]
  },
  {
   "cell_type": "code",
   "execution_count": 109,
   "metadata": {},
   "outputs": [
    {
     "data": {
      "text/plain": [
       "False"
      ]
     },
     "execution_count": 109,
     "metadata": {},
     "output_type": "execute_result"
    }
   ],
   "source": [
    "# Function to check if a given string is a Palindrome\n",
    "\n",
    "def isPalindrome(s):\n",
    "    if(s == s[::-1]):\n",
    "        return True\n",
    "    return False\n",
    "\n",
    "isPalindrome('racecar1')\n"
   ]
  },
  {
   "cell_type": "markdown",
   "metadata": {},
   "source": [
    "#### Iteration in Python"
   ]
  },
  {
   "cell_type": "code",
   "execution_count": 111,
   "metadata": {},
   "outputs": [
    {
     "name": "stdout",
     "output_type": "stream",
     "text": [
      "123\n",
      "124\n",
      "125\n"
     ]
    }
   ],
   "source": [
    "for i in range(123, 126):\n",
    "    print(i)"
   ]
  },
  {
   "cell_type": "code",
   "execution_count": 112,
   "metadata": {},
   "outputs": [
    {
     "name": "stdout",
     "output_type": "stream",
     "text": [
      "7\n",
      "14\n",
      "21\n",
      "28\n",
      "35\n",
      "42\n",
      "49\n",
      "56\n",
      "63\n",
      "70\n"
     ]
    }
   ],
   "source": [
    "# Function to print all numbers divisible by\n",
    "# 7 in a given range [lb, ub]\n",
    "\n",
    "def divisible7(lb, ub):\n",
    "    for i in range(lb, ub + 1):\n",
    "        if i % 7 == 0:\n",
    "            print(i)\n",
    "    return\n",
    "\n",
    "divisible7(1, 70)"
   ]
  },
  {
   "cell_type": "code",
   "execution_count": 141,
   "metadata": {},
   "outputs": [
    {
     "name": "stdout",
     "output_type": "stream",
     "text": [
      "2 3 5 7 11 13 17 19 23 29 0.00041246600085287355\n"
     ]
    }
   ],
   "source": [
    "# Function to generate K prime numbers\n",
    "from math import sqrt, floor\n",
    "import timeit\n",
    "\n",
    "def isFactor(dividend, divisor):\n",
    "    if dividend % divisor == 0:\n",
    "        return True\n",
    "    return False\n",
    "\n",
    "def isPrime(n):\n",
    "    for i in range(2, floor(sqrt(n)) + 1):\n",
    "        if isFactor(n, i):\n",
    "            return False\n",
    "    return True\n",
    "\n",
    "def genPrimes(k):\n",
    "    primeCounter = 0\n",
    "    seqCounter = 2\n",
    "    while primeCounter < k:    \n",
    "        if isPrime(seqCounter):\n",
    "            print(seqCounter, end= ' ')\n",
    "            primeCounter += 1\n",
    "        seqCounter += 1\n",
    "st = timeit.default_timer()           \n",
    "genPrimes(10)            \n",
    "print(timeit.default_timer() - st)\n",
    "\n"
   ]
  },
  {
   "cell_type": "markdown",
   "metadata": {},
   "source": [
    "#### Python Lists"
   ]
  },
  {
   "cell_type": "code",
   "execution_count": 170,
   "metadata": {},
   "outputs": [
    {
     "data": {
      "text/plain": [
       "[9, 8, 7, 6, 5.6, 5, 4, 3, 2, 1]"
      ]
     },
     "execution_count": 170,
     "metadata": {},
     "output_type": "execute_result"
    }
   ],
   "source": [
    "li = [1, 2, 3, 4, 5, 6, 'python', 5.6, 5.6] # Initialising a list\n",
    "\n",
    "li.append([321, 543, 765]) # Adding an element to the endd of the list\n",
    "li.remove(5.6) # Deletes an element from the list\n",
    "li[8].remove(543)\n",
    "li[8].insert(1, 543)\n",
    "li.pop(6)\n",
    "li.pop(-1)\n",
    "li2 = [7, 8, 9]\n",
    "li.extend(li2) # Merges all elements of li2 into li\n",
    "li.sort() # Sort in ascending order\n",
    "li.sort(reverse=True) # Sort in descending order\n",
    "li"
   ]
  },
  {
   "cell_type": "code",
   "execution_count": null,
   "metadata": {},
   "outputs": [],
   "source": []
  },
  {
   "cell_type": "code",
   "execution_count": null,
   "metadata": {},
   "outputs": [],
   "source": []
  }
 ],
 "metadata": {
  "kernelspec": {
   "display_name": "Python 3",
   "language": "python",
   "name": "python3"
  },
  "language_info": {
   "codemirror_mode": {
    "name": "ipython",
    "version": 3
   },
   "file_extension": ".py",
   "mimetype": "text/x-python",
   "name": "python",
   "nbconvert_exporter": "python",
   "pygments_lexer": "ipython3",
   "version": "3.6.5"
  }
 },
 "nbformat": 4,
 "nbformat_minor": 2
}
