{
 "cells": [
  {
   "cell_type": "markdown",
   "metadata": {},
   "source": [
    "# JNTUA FDP - Day 05\n",
    "\n",
    "#### Date : 31 May 2019\n",
    "\n",
    "#### Day Objectives\n",
    "* Tuples\n",
    "* Dictionaries\n",
    "* Idiomatic Programming in Python\n",
    "* Regular Expressions\n",
    "* Date Arithmetic\n",
    "* Iterators and Generators\n",
    "* Functional Programming\n"
   ]
  },
  {
   "cell_type": "markdown",
   "metadata": {},
   "source": []
  },
  {
   "cell_type": "markdown",
   "metadata": {},
   "source": [
    "#### Python Tuples"
   ]
  },
  {
   "cell_type": "code",
   "execution_count": 1,
   "metadata": {},
   "outputs": [],
   "source": [
    "t1 = (1001, 'name', 72, 90)\n",
    "\n"
   ]
  },
  {
   "cell_type": "code",
   "execution_count": 7,
   "metadata": {},
   "outputs": [
    {
     "data": {
      "text/plain": [
       "(72, 90)"
      ]
     },
     "execution_count": 7,
     "metadata": {},
     "output_type": "execute_result"
    }
   ],
   "source": [
    "t1[2:]"
   ]
  },
  {
   "cell_type": "code",
   "execution_count": 11,
   "metadata": {},
   "outputs": [
    {
     "name": "stdout",
     "output_type": "stream",
     "text": [
      "2 5 8\n"
     ]
    }
   ],
   "source": [
    "t2 = (321, 654, 789098)\n",
    "# Accessing all the second digits of elements in a tuple\n",
    "print(str(t2[0])[1],  str(t2[1])[1],  str(t2[2])[1])"
   ]
  },
  {
   "cell_type": "code",
   "execution_count": 18,
   "metadata": {},
   "outputs": [
    {
     "data": {
      "text/plain": [
       "tuple"
      ]
     },
     "execution_count": 18,
     "metadata": {},
     "output_type": "execute_result"
    }
   ],
   "source": [
    "# Function to calculate the Average of all elements in a tuple\n",
    "def averageLinearDS(t):\n",
    "    sum = 0\n",
    "    #for i in range(0, len(t)):\n",
    "     #   sum += t[i]\n",
    "    for item in t:\n",
    "        sum += item\n",
    "    return sum/len(t)\n",
    "\n",
    "li = [123, 243, 456, 678, 890]\n",
    "\n",
    "averageLinearDS(li)\n",
    "type(t1)"
   ]
  },
  {
   "cell_type": "code",
   "execution_count": 14,
   "metadata": {},
   "outputs": [
    {
     "data": {
      "text/plain": [
       "2"
      ]
     },
     "execution_count": 14,
     "metadata": {},
     "output_type": "execute_result"
    }
   ],
   "source": [
    "# Function to search in a Linear Data Structure\n",
    "\n",
    "def searchLinearDS(ds, key):\n",
    "    for item in range(0, len(ds)):\n",
    "        if ds[i] == key:\n",
    "            return i\n",
    "    return -1\n",
    "\n",
    "searchLinearDS(li, 456)\n",
    "\n"
   ]
  },
  {
   "cell_type": "markdown",
   "metadata": {},
   "source": [
    "#### Iterable Objects"
   ]
  },
  {
   "cell_type": "code",
   "execution_count": 20,
   "metadata": {},
   "outputs": [
    {
     "name": "stdout",
     "output_type": "stream",
     "text": [
      "p\n",
      "y\n",
      "t\n",
      "h\n",
      "o\n",
      "n\n"
     ]
    }
   ],
   "source": [
    "\n",
    "s = \"python\"\n",
    "for i in s:\n",
    "    print(i)\n"
   ]
  },
  {
   "cell_type": "code",
   "execution_count": 24,
   "metadata": {},
   "outputs": [
    {
     "data": {
      "text/plain": [
       "123"
      ]
     },
     "execution_count": 24,
     "metadata": {},
     "output_type": "execute_result"
    }
   ],
   "source": [
    "# Function to identify the maximum element in a DS as Iterable Object\n",
    "\n",
    "def maxElementDS(ds):\n",
    "    m = ds[0]\n",
    "    for item in ds:\n",
    "        if item < m:\n",
    "            m = item\n",
    "    return m\n",
    "    \n",
    "maxElementDS(li)"
   ]
  },
  {
   "cell_type": "markdown",
   "metadata": {},
   "source": [
    "#### Python Dictionaries"
   ]
  },
  {
   "cell_type": "code",
   "execution_count": 28,
   "metadata": {},
   "outputs": [
    {
     "name": "stdout",
     "output_type": "stream",
     "text": [
      "32157634875\n"
     ]
    },
    {
     "data": {
      "text/plain": [
       "dict_values([1234567789, 32157634875])"
      ]
     },
     "execution_count": 28,
     "metadata": {},
     "output_type": "execute_result"
    }
   ],
   "source": [
    "d1 = {'name1':1234567789, 'name2':32157634875}\n",
    "print(d1['name2'])\n",
    "\n",
    "d1.keys() # All keys in a dictionary are unique\n",
    "d1.values()"
   ]
  },
  {
   "cell_type": "code",
   "execution_count": 33,
   "metadata": {},
   "outputs": [
    {
     "data": {
      "text/plain": [
       "{'name2': 32157634875, 'name1': '3286427465'}"
      ]
     },
     "execution_count": 33,
     "metadata": {},
     "output_type": "execute_result"
    }
   ],
   "source": [
    "d1['name1'] = '3286427465'\n",
    "d1"
   ]
  },
  {
   "cell_type": "code",
   "execution_count": 32,
   "metadata": {},
   "outputs": [
    {
     "data": {
      "text/plain": [
       "{'name2': 32157634875}"
      ]
     },
     "execution_count": 32,
     "metadata": {},
     "output_type": "execute_result"
    }
   ],
   "source": [
    "d1.pop('name1') # removes a key and value\n",
    "d1"
   ]
  },
  {
   "cell_type": "code",
   "execution_count": 38,
   "metadata": {},
   "outputs": [],
   "source": [
    "#d1.pop('name1')\n",
    "d1.keys()\n",
    "\n",
    "del d1"
   ]
  },
  {
   "cell_type": "code",
   "execution_count": 2,
   "metadata": {},
   "outputs": [],
   "source": [
    "# Contacts Application\n",
    "# Display, Add, Modify and Delete contacts\n",
    "\n",
    "contacts = {}\n",
    "\n",
    "def addContact(d, name, phone):\n",
    "    d[name] = phone\n",
    "    return\n",
    "\n",
    "def displayContacts(contacts):\n",
    "    for name, phone in contacts.items():\n",
    "        print(name, \":\", phone)\n",
    "    return\n",
    "\n",
    "def modifyContacts(contacts, name, newphone):\n",
    "    contacts[name] = newphone\n",
    "    return\n",
    "\n",
    "def deleteContact(contacts, name):\n",
    "    contacts.pop(name)\n",
    "    return"
   ]
  },
  {
   "cell_type": "code",
   "execution_count": 6,
   "metadata": {},
   "outputs": [],
   "source": [
    "#Adding Contacts\n",
    "addContact(contacts, 'name2', 87458345)\n",
    "addContact(contacts, 'name1', 364887458345)\n"
   ]
  },
  {
   "cell_type": "code",
   "execution_count": 8,
   "metadata": {},
   "outputs": [
    {
     "name": "stdout",
     "output_type": "stream",
     "text": [
      "name2 : 87458345\n",
      "name1 : 364887458345\n"
     ]
    }
   ],
   "source": [
    "#Display Contacts\n",
    "displayContacts(contacts)"
   ]
  },
  {
   "cell_type": "code",
   "execution_count": 9,
   "metadata": {},
   "outputs": [
    {
     "data": {
      "text/plain": [
       "dict_items([('name2', 87458345), ('name1', 364887458345)])"
      ]
     },
     "execution_count": 9,
     "metadata": {},
     "output_type": "execute_result"
    }
   ],
   "source": [
    "contacts.items() # List of tuples of all items"
   ]
  },
  {
   "cell_type": "code",
   "execution_count": 25,
   "metadata": {},
   "outputs": [
    {
     "data": {
      "text/plain": [
       "[4, 3, 2, 1]"
      ]
     },
     "execution_count": 25,
     "metadata": {},
     "output_type": "execute_result"
    }
   ],
   "source": [
    "li2 = [1, 2, 3, 4]\n",
    "li3 = [5, 6, 7, 8, 9]\n",
    "li2 = list(reversed(li2))\n",
    "\n",
    "type(li2)\n",
    "\n",
    "li2"
   ]
  },
  {
   "cell_type": "code",
   "execution_count": 23,
   "metadata": {},
   "outputs": [
    {
     "name": "stdout",
     "output_type": "stream",
     "text": [
      "0 : 4\n",
      "1 : 3\n",
      "2 : 2\n",
      "3 : 1\n"
     ]
    }
   ],
   "source": [
    "enumerate(li2)\n",
    "for i, value in enumerate(li2):\n",
    "    print(i, ':', value)"
   ]
  },
  {
   "cell_type": "code",
   "execution_count": 29,
   "metadata": {},
   "outputs": [
    {
     "name": "stdout",
     "output_type": "stream",
     "text": [
      "4 5\n",
      "3 6\n",
      "2 7\n",
      "1 8\n"
     ]
    },
    {
     "data": {
      "text/plain": [
       "<zip at 0x109e95c48>"
      ]
     },
     "execution_count": 29,
     "metadata": {},
     "output_type": "execute_result"
    }
   ],
   "source": [
    "li2\n",
    "li3\n",
    "\n",
    "for i, j in zip(li2, li3):\n",
    "    print(i, j)\n",
    "    \n",
    "zip(li2, li3)"
   ]
  },
  {
   "cell_type": "markdown",
   "metadata": {},
   "source": [
    "#### Regular Expressions"
   ]
  },
  {
   "cell_type": "markdown",
   "metadata": {},
   "source": [
    "[0-9] RE for all single digits\n",
    "[0, 1, 2, 3 ... 9]\n",
    "\n",
    "0\n",
    "1\n",
    "2\n",
    "33\n",
    "\n",
    "\n",
    "[a-z] RE for all lower case alphabet\n",
    "[A-Z] RE for all upper case alphabet\n",
    "\n",
    "[10]"
   ]
  },
  {
   "cell_type": "code",
   "execution_count": null,
   "metadata": {},
   "outputs": [],
   "source": [
    "\n",
    "#Function to validate college student roll no\n",
    "\n",
    "#Function to validate indian phone numbers starting 9, 8, 7, 6 and have 10 digits\n",
    "\n",
    "# Function to validate email address\n",
    "        username@domain.extension\n",
    "        username = {string of length 9. can contain digits, _, alphabet}\n",
    "        domain = (string of 9. can contain digits and alphabet)\n",
    "        extension = {length of 3. Only alphabet}"
   ]
  },
  {
   "cell_type": "code",
   "execution_count": 32,
   "metadata": {},
   "outputs": [
    {
     "data": {
      "text/plain": [
       "True"
      ]
     },
     "execution_count": 32,
     "metadata": {},
     "output_type": "execute_result"
    }
   ],
   "source": [
    "import re\n",
    "def phoneNumberValidator(phone):\n",
    "    phone = str(phone)\n",
    "    pattern = '^[6-9][0-9]{9}$'\n",
    "    if re.match(pattern, phone):\n",
    "        return True\n",
    "    return False\n",
    "\n",
    "\n",
    "phoneNumberValidator(9234567890)\n"
   ]
  },
  {
   "cell_type": "code",
   "execution_count": 34,
   "metadata": {},
   "outputs": [],
   "source": [
    "s1 = 'Introduction to programming concepts with scratch, Scratch environment, sprites looks and motion, Angles and directions, repetition and variation, changing costumes, adding background, Input/Output,  variables and operators. Working with sounds and sprite communication and creating stories, App Generation.'"
   ]
  },
  {
   "cell_type": "code",
   "execution_count": 35,
   "metadata": {},
   "outputs": [
    {
     "data": {
      "text/plain": [
       "['Introduction to programming concepts with scratch',\n",
       " 'Scratch environment',\n",
       " 'sprites looks and motion',\n",
       " 'Angles and directions',\n",
       " 'repetition and variation',\n",
       " 'changing costumes',\n",
       " 'adding background',\n",
       " 'Input/Output',\n",
       " ' variables and operators. Working with sounds and sprite communication and creating stories',\n",
       " 'App Generation.']"
      ]
     },
     "execution_count": 35,
     "metadata": {},
     "output_type": "execute_result"
    }
   ],
   "source": [
    "syllabusList = re.split('[,][\\ ]', s1)\n",
    "\n",
    "syllabusList"
   ]
  },
  {
   "cell_type": "markdown",
   "metadata": {},
   "source": [
    "#### Python Date Time Arithmetic"
   ]
  },
  {
   "cell_type": "code",
   "execution_count": 48,
   "metadata": {},
   "outputs": [
    {
     "name": "stdout",
     "output_type": "stream",
     "text": [
      "17 9 38\n",
      "2019-05-31 17:09:38.549592\n"
     ]
    }
   ],
   "source": [
    "import datetime\n",
    "\n",
    "now = datetime.datetime.now()\n",
    "print(now.hour, now.minute, now.second)\n",
    "\n",
    "print(now)"
   ]
  },
  {
   "cell_type": "code",
   "execution_count": 54,
   "metadata": {},
   "outputs": [
    {
     "name": "stdout",
     "output_type": "stream",
     "text": [
      "737209 days, 0:00:00\n"
     ]
    }
   ],
   "source": [
    "# Function to find the difference between two given dates\n",
    "# YYYY:MM:DD is the date format as a string\n",
    "#YYYYMMDD\n",
    "import datetime\n",
    "def dateDifference(date1, date2):\n",
    "    year1 = int(date1[:4])\n",
    "    month1 = int(date1[5:7])\n",
    "    day1 = int(date1[8:])\n",
    "    year2 = int(date2[:4])\n",
    "    month2 = int(date2[5:7])\n",
    "    day2 = int(date2[8:])\n",
    "    d1 = datetime.date(year1, month1, day1)\n",
    "    d2 = datetime.date(year2, month2, day2)\n",
    "    return d2 - d1    \n",
    "    \n",
    "print(dateDifference('0001:01:01','2019:05:31'))\n",
    "\n"
   ]
  },
  {
   "cell_type": "code",
   "execution_count": 57,
   "metadata": {},
   "outputs": [
    {
     "data": {
      "text/plain": [
       "True"
      ]
     },
     "execution_count": 57,
     "metadata": {},
     "output_type": "execute_result"
    }
   ],
   "source": [
    "import calendar\n",
    "\n",
    "calendar.isleap(2016)"
   ]
  },
  {
   "cell_type": "code",
   "execution_count": 59,
   "metadata": {},
   "outputs": [
    {
     "data": {
      "text/plain": [
       "True"
      ]
     },
     "execution_count": 59,
     "metadata": {},
     "output_type": "execute_result"
    }
   ],
   "source": [
    "# 2020 - True\n",
    "# 1900 - False\n",
    "# 1600 - True\n",
    "# 2008 - True\n",
    "# 400 - True\n",
    "# 600 - False\n",
    "# \n",
    "def isLeap(year):\n",
    "    if (year % 4 == 0 and year % 100 != 0) or year % 400 == 0:\n",
    "        return True\n",
    "    return False\n",
    "\n",
    "isLeap(2020)\n"
   ]
  },
  {
   "cell_type": "markdown",
   "metadata": {},
   "source": [
    "#### List Comprehensions"
   ]
  },
  {
   "cell_type": "code",
   "execution_count": 66,
   "metadata": {},
   "outputs": [
    {
     "data": {
      "text/plain": [
       "45"
      ]
     },
     "execution_count": 66,
     "metadata": {},
     "output_type": "execute_result"
    }
   ],
   "source": [
    "\n",
    "\n",
    "li = [1,2,3,4,5,6]\n",
    "\n",
    "n = 123\n",
    "sum(range(123))\n",
    "sum(list(range(9+1))) # sum of n natural numbers"
   ]
  },
  {
   "cell_type": "code",
   "execution_count": 68,
   "metadata": {},
   "outputs": [
    {
     "data": {
      "text/plain": [
       "[1, 4, 9, 16, 25, 36]"
      ]
     },
     "execution_count": 68,
     "metadata": {},
     "output_type": "execute_result"
    }
   ],
   "source": [
    "# calculate sum of squareroot of n natural numbers\n",
    "\n",
    "from math import sqrt\n",
    "\n",
    "def sumSqrtNNaturalNumbers(n):\n",
    "    return sum([sqrt(i) for i in list(range(1, n+1))])\n",
    "\n",
    "sqrtNNaturalNumbers(10)\n",
    "\n",
    "\n",
    "\n",
    "def squareListElements(li):\n",
    "    return [i ** 2 for i in li]\n",
    "\n",
    "squareListElements(li)\n",
    "\n",
    "\n",
    "\n"
   ]
  },
  {
   "cell_type": "code",
   "execution_count": 71,
   "metadata": {},
   "outputs": [
    {
     "data": {
      "text/plain": [
       "[1980, 1984, 1988, 1992, 1996, 2000, 2004, 2008, 2012, 2016]"
      ]
     },
     "execution_count": 71,
     "metadata": {},
     "output_type": "execute_result"
    }
   ],
   "source": [
    "# define a function using list comprehension to \n",
    "#identify all numbers divisible by 9 in a list\n",
    "\n",
    "li = list(range(1979, 2019))\n",
    "\n",
    "def divisible9LC(li):\n",
    "    return [i for i in li if (i % 4 == 0 and i % 100 != 0) or i % 400 == 0]\n",
    "\n",
    "[i for i in li if (i % 4 == 0 and i % 100 != 0) or i % 400 == 0]"
   ]
  },
  {
   "cell_type": "code",
   "execution_count": null,
   "metadata": {},
   "outputs": [],
   "source": []
  },
  {
   "cell_type": "markdown",
   "metadata": {},
   "source": [
    "#### Maps\n",
    "\n",
    "Functions and iterators are passed as parameters to Map\n"
   ]
  },
  {
   "cell_type": "code",
   "execution_count": 79,
   "metadata": {},
   "outputs": [
    {
     "data": {
      "text/plain": [
       "784"
      ]
     },
     "execution_count": 79,
     "metadata": {},
     "output_type": "execute_result"
    }
   ],
   "source": [
    "\n",
    "# Function to calculate cubes of all numbers in a list\n",
    "\n",
    "li = [1,2,3,4,5,6, 7]\n",
    "\n",
    "def cube(n):\n",
    "    return n ** 3\n",
    "\n",
    "for i in li:\n",
    "    cube(i)\n",
    "\n",
    "sum([cube(i) for i in li])\n",
    "    \n",
    "sum(list(map(cube, li)))\n"
   ]
  },
  {
   "cell_type": "code",
   "execution_count": null,
   "metadata": {},
   "outputs": [],
   "source": []
  },
  {
   "cell_type": "code",
   "execution_count": null,
   "metadata": {},
   "outputs": [],
   "source": []
  }
 ],
 "metadata": {
  "kernelspec": {
   "display_name": "Python 3",
   "language": "python",
   "name": "python3"
  },
  "language_info": {
   "codemirror_mode": {
    "name": "ipython",
    "version": 3
   },
   "file_extension": ".py",
   "mimetype": "text/x-python",
   "name": "python",
   "nbconvert_exporter": "python",
   "pygments_lexer": "ipython3",
   "version": "3.6.5"
  }
 },
 "nbformat": 4,
 "nbformat_minor": 2
}
