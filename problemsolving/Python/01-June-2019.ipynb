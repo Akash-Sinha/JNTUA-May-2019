{
 "cells": [
  {
   "cell_type": "markdown",
   "metadata": {},
   "source": [
    "# Day 06 - Faculty Development Program - JNTUA\n",
    "\n",
    "\n",
    "### Day Objectives\n",
    "* Packages and Modules in Python\n",
    "* Turtle Graphics\n",
    "* File Handling\n",
    "* Python Libraries for Data Processing, Analysis, Visualization and Machine Learning\n",
    "  * **Numpy** - Array Processing\n",
    "  * **Pandas** - Data Analysis\n",
    "  * **Matplotlib** - Data Visualization\n",
    "  * **Scikit-learn** - Machine Learning\n"
   ]
  },
  {
   "cell_type": "code",
   "execution_count": null,
   "metadata": {},
   "outputs": [],
   "source": []
  },
  {
   "cell_type": "markdown",
   "metadata": {},
   "source": [
    "#### Packages and Modules\n",
    "\n",
    "Package - Collection of Subpackages or Modules\n",
    "SubPackage - Collection of Subpackages or Modules\n",
    "Module - Single Python File consisting of functions\n",
    "Function"
   ]
  },
  {
   "cell_type": "code",
   "execution_count": 2,
   "metadata": {},
   "outputs": [
    {
     "data": {
      "text/plain": [
       "1267650600228229401496703205376"
      ]
     },
     "execution_count": 2,
     "metadata": {},
     "output_type": "execute_result"
    }
   ],
   "source": [
    "# Accessing the Basic module in Numerical Package\n",
    "\n",
    "import numerical.basic\n",
    "\n",
    "numerical.basic.powerN(2, 100)\n"
   ]
  },
  {
   "cell_type": "code",
   "execution_count": 9,
   "metadata": {},
   "outputs": [
    {
     "data": {
      "text/plain": [
       "True"
      ]
     },
     "execution_count": 9,
     "metadata": {},
     "output_type": "execute_result"
    }
   ],
   "source": [
    "#import numerical.basic\n",
    "from numerical.basic import divisibilityTest as dt\n",
    "\n",
    "dt(9999999999)"
   ]
  },
  {
   "cell_type": "code",
   "execution_count": 12,
   "metadata": {},
   "outputs": [
    {
     "name": "stdout",
     "output_type": "stream",
     "text": [
      "2 3 5 "
     ]
    }
   ],
   "source": [
    "from numerical.primes import genPrimes as gp\n",
    "\n",
    "gp(3)\n"
   ]
  },
  {
   "cell_type": "code",
   "execution_count": null,
   "metadata": {},
   "outputs": [],
   "source": [
    "import turtle as t\n",
    "\n",
    "wn = t.Screen() # Creates a Turtle graphics screen\n",
    "t1 = t.Turtle() # Creates a Turtle object\n",
    "t2 = t.Turtle()\n",
    "\n",
    "t1.forward(90)\n",
    "t2.backward(45)\n",
    "\n",
    "wn.mainloop() # Allow the user to close the screen"
   ]
  },
  {
   "cell_type": "code",
   "execution_count": null,
   "metadata": {},
   "outputs": [],
   "source": []
  },
  {
   "cell_type": "markdown",
   "metadata": {},
   "source": [
    "#### File Handling"
   ]
  },
  {
   "cell_type": "code",
   "execution_count": 8,
   "metadata": {},
   "outputs": [],
   "source": [
    "# Define a function to read file data for a given file\n",
    "import re\n",
    "def readfile(filename):\n",
    "    f = open(filename, 'r')\n",
    "    filedata = f.read() # Returns a list of lines in the file\n",
    "    f.close()\n",
    "    return filedata\n",
    "\n",
    "filename = 'datafiles/data.txt'\n",
    "#len(re.split('\\ ', readfile(filename))) # number of words\n",
    "\n",
    "#wordlist = re.split('\\ ', readfile(filename))\n",
    "\n",
    "\n",
    "\n",
    "\n"
   ]
  },
  {
   "cell_type": "markdown",
   "metadata": {},
   "source": [
    "Frequency of Data\n",
    "\n",
    "1. Unique Data in the form of a Dictionary\n",
    "        {'To':0, 'introduce':0 ......}\n",
    "2. Calculate the frequency for all keys in the dictionary\n",
    "        For Every Key in Dictionary:\n",
    "            count the number of times the key is repeating in the data\n",
    "        Assign the count of each key to the corresponding dictionary value"
   ]
  },
  {
   "cell_type": "code",
   "execution_count": 12,
   "metadata": {},
   "outputs": [
    {
     "data": {
      "text/plain": [
       "{'Course': 1,\n",
       " 'Objectives:\\nTo': 1,\n",
       " 'introduce': 2,\n",
       " 'programming': 4,\n",
       " 'through': 4,\n",
       " 'Visual': 1,\n",
       " 'tool': 2,\n",
       " '-': 3,\n",
       " 'Scratch\\nTo': 1,\n",
       " 'teach': 2,\n",
       " 'problem': 2,\n",
       " 'solving': 2,\n",
       " 'Flow': 1,\n",
       " 'charting': 1,\n",
       " 'Raptor\\nTo': 1,\n",
       " 'elucidate': 1,\n",
       " 'python': 2,\n",
       " 'language\\nTo': 1,\n",
       " '': 388,\n",
       " 'function-oriented': 1,\n",
       " 'paradigm': 1,\n",
       " 'python\\nTo': 1,\n",
       " 'train': 1,\n",
       " 'in': 12,\n",
       " 'development': 1,\n",
       " 'of': 1,\n",
       " 'solutions': 1,\n",
       " 'using': 1,\n",
       " 'modular': 1,\n",
       " 'concepts\\nTo': 1,\n",
       " 'practical': 1,\n",
       " 'Pythonic': 1,\n",
       " 'solution': 2,\n",
       " 'patterns\\n': 1}"
      ]
     },
     "execution_count": 12,
     "metadata": {},
     "output_type": "execute_result"
    }
   ],
   "source": [
    "# Function to extract unique words in a text file\n",
    "import re\n",
    "def extractUniqueWords(filename):\n",
    "    filedata = readfile(filename)\n",
    "    wordlist = re.split('\\ ', filedata)\n",
    "    uniqueWords = {}\n",
    "    for word in wordlist:\n",
    "        if word not in uniqueWords.keys():\n",
    "            uniqueWords[word] = 1\n",
    "    return uniqueWords\n",
    "\n",
    "filename = 'datafiles/data.txt'\n",
    "uniqueWords = extractUniqueWords(filename)\n",
    " \n",
    "# Function to calculate the frequency of words from given data\n",
    "    \n",
    "def frequencyTable(data, uniquedata):\n",
    "    for word in uniquedata.keys():\n",
    "        uniquedata[word] = len(re.findall(word, data))\n",
    "    return uniquedata\n",
    "\n",
    "filedata = readfile(filename)\n",
    "frequencyTable(filedata, uniqueWords)\n",
    "    "
   ]
  },
  {
   "cell_type": "code",
   "execution_count": null,
   "metadata": {},
   "outputs": [],
   "source": []
  },
  {
   "cell_type": "code",
   "execution_count": 11,
   "metadata": {},
   "outputs": [
    {
     "data": {
      "text/plain": [
       "['p', 'p']"
      ]
     },
     "execution_count": 11,
     "metadata": {},
     "output_type": "execute_result"
    }
   ],
   "source": [
    "\n",
    "re.findall('p', 'python programming')"
   ]
  },
  {
   "cell_type": "code",
   "execution_count": null,
   "metadata": {},
   "outputs": [],
   "source": []
  },
  {
   "cell_type": "code",
   "execution_count": null,
   "metadata": {},
   "outputs": [],
   "source": []
  }
 ],
 "metadata": {
  "kernelspec": {
   "display_name": "Python 3",
   "language": "python",
   "name": "python3"
  },
  "language_info": {
   "codemirror_mode": {
    "name": "ipython",
    "version": 3
   },
   "file_extension": ".py",
   "mimetype": "text/x-python",
   "name": "python",
   "nbconvert_exporter": "python",
   "pygments_lexer": "ipython3",
   "version": "3.6.5"
  }
 },
 "nbformat": 4,
 "nbformat_minor": 2
}
